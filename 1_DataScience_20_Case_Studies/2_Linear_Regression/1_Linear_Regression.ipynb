{
 "cells": [
  {
   "cell_type": "code",
   "execution_count": 1,
   "metadata": {},
   "outputs": [],
   "source": [
    "def cost_function(m,b,x,y):\n",
    "    totalError = 0\n",
    "    for i in range(0, len(x)):\n",
    "        totalError += (y[i]-(m*x[i]+b))**2\n",
    "    return totalError/float(len(x))"
   ]
  },
  {
   "cell_type": "code",
   "execution_count": 2,
   "metadata": {},
   "outputs": [],
   "source": [
    "def gradient_descent(b,m,x,y, learning_rate, num_iteration):\n",
    "    N = float(len(x))\n",
    "    for j in range(num_iteration):\n",
    "        b_gradient = 0\n",
    "        m_gradient = 0\n",
    "        for i in range(0, len(x)):\n",
    "            b_gradient += -(2/N) * (y[i] -((m*x[i]) + b))\n",
    "            m_gradient += -(2/N) * x[i]* (y[i] -((m*x[i]) + b))\n",
    "        b -=(learning_rate * b_gradient)\n",
    "        m -= (learning_rate * m_gradient)\n",
    "        \n",
    "        if j%100 ==0:\n",
    "            print(\"MSE after \" + str(j) + \" iteration \" + str(cost_function(m,b,x,y)))\n",
    "        return [b,m]\n",
    "            "
   ]
  },
  {
   "cell_type": "code",
   "execution_count": 4,
   "metadata": {},
   "outputs": [
    {
     "data": {
      "image/png": "[encoded data removed]",
      "text/plain": [
       "<Figure size 432x288 with 1 Axes>"
      ]
     },
     "metadata": {
      "needs_background": "light"
     },
     "output_type": "display_data"
    }
   ],
   "source": [
    "import numpy as np\n",
    "import matplotlib.pyplot as plt\n",
    "\n",
    "x = np.linspace(0,100,50)\n",
    "delta = np.random.uniform(-10,10,x.size)\n",
    "y = 0.5*x + 3 +delta\n",
    "plt.scatter(x,y)\n",
    "plt.show()"
   ]
  },
  {
   "cell_type": "code",
   "execution_count": 6,
   "metadata": {},
   "outputs": [
    {
     "name": "stdout",
     "output_type": "stream",
     "text": [
      "Inital MSE  1075.4633400114133\n",
      "MSE after 0 iteration 137.70812594225862\n",
      "B:  0.005709924724874759\n",
      "M:  0.375989161714667\n",
      "MSE:  137.70812594225862\n"
     ]
    }
   ],
   "source": [
    "learning_rate = 0.0001\n",
    "init_b = 0\n",
    "init_m = 0\n",
    "\n",
    "num_iteration = 200\n",
    "\n",
    "print('Inital MSE ', cost_function(init_m,init_b,x,y))\n",
    "[b,m] = gradient_descent(init_b,init_m,x,y,learning_rate, num_iteration)\n",
    "print('B: ',b)\n",
    "print('M: ', m)\n",
    "print('MSE: ' , cost_function(m,b,x,y))"
   ]
  },
  {
   "cell_type": "code",
   "execution_count": 8,
   "metadata": {},
   "outputs": [
    {
     "data": {
      "text/plain": [
       "[<matplotlib.lines.Line2D at 0x22fd297a940>]"
      ]
     },
     "execution_count": 8,
     "metadata": {},
     "output_type": "execute_result"
    },
    {
     "data": {
      "image/png": "[encoded data removed]",
      "text/plain": [
       "<Figure size 432x288 with 1 Axes>"
      ]
     },
     "metadata": {
      "needs_background": "light"
     },
     "output_type": "display_data"
    }
   ],
   "source": [
    "predection = [(m*x[i]) + b for i in range(len(x))]\n",
    "plt.scatter(x,y)\n",
    "plt.plot(x,predection,color='r')"
   ]
  },
  {
   "cell_type": "code",
   "execution_count": null,
   "metadata": {},
   "outputs": [],
   "source": []
  }
 ],
 "metadata": {
  "kernelspec": {
   "display_name": "Python 3",
   "language": "python",
   "name": "python3"
  },
  "language_info": {
   "codemirror_mode": {
    "name": "ipython",
    "version": 3
   },
   "file_extension": ".py",
   "mimetype": "text/x-python",
   "name": "python",
   "nbconvert_exporter": "python",
   "pygments_lexer": "ipython3",
   "version": "3.7.0"
  }
 },
 "nbformat": 4,
 "nbformat_minor": 2
}
