{
 "cells": [
  {
   "cell_type": "code",
   "execution_count": 10,
   "metadata": {},
   "outputs": [],
   "source": [
    "import numpy as np\n",
    "import tensorflow as tf\n",
    "import matplotlib.pyplot as plt"
   ]
  },
  {
   "cell_type": "code",
   "execution_count": 11,
   "metadata": {},
   "outputs": [],
   "source": [
    "import tensorflow.compat.v1 as tf\n",
    "tf.disable_v2_behavior()\n"
   ]
  },
  {
   "cell_type": "code",
   "execution_count": null,
   "metadata": {},
   "outputs": [],
   "source": []
  },
  {
   "cell_type": "code",
   "execution_count": 13,
   "metadata": {},
   "outputs": [
    {
     "data": {
      "image/png": "[encoded data removed]",
      "text/plain": [
       "<Figure size 432x288 with 1 Axes>"
      ]
     },
     "metadata": {
      "needs_background": "light"
     },
     "output_type": "display_data"
    }
   ],
   "source": [
    "sample_n=200\n",
    "features_n=2\n",
    "iteration=100\n",
    "cluster_n=3\n",
    "points=np.random.uniform(0,20,(sample_n, features_n))\n",
    "samples=tf.constant(points)\n",
    "initial_centroids=tf.slice(tf.random_shuffle(samples),[0,0],[cluster_n,-1])\n",
    "initial_centroids[0]\n",
    "\n",
    "x=samples[0]##This shows how we can access the first point in the dataset\n",
    "S=x[1]\n",
    "\n",
    "##Plotting the points and the centroids\n",
    "X=points[:,0]\n",
    "Y=points[:,1]\n",
    "plt.scatter(X,Y)\n",
    "##Now plot the initial centroids\n",
    "sess = tf.Session(); \n",
    "with sess.as_default(): \n",
    "  cent=initial_centroids.eval()\n",
    "  X1=cent[:,0]\n",
    "  Y1=cent[:,1]\n",
    "  plt.scatter(X1,Y1, s=100, color='red',marker=(5, 2))\n",
    "  plt.xlabel('1st Feature')\n",
    "  plt.ylabel('2nd Feature')\n",
    "  plt.title('Dataset points and the initial centroids')\n",
    "  plt.show()"
   ]
  },
  {
   "cell_type": "code",
   "execution_count": 14,
   "metadata": {},
   "outputs": [
    {
     "name": "stdout",
     "output_type": "stream",
     "text": [
      "The sample shape is like: (200, 2)\n",
      "The shape of the centroids is like: (3, 2)\n",
      "The expanded sample shape is like: (1, 200, 2)\n",
      "The expanded shape of the centroids is like: (3, 1, 2)\n"
     ]
    }
   ],
   "source": [
    "print('The sample shape is like:',samples.shape)\n",
    "print('The shape of the centroids is like:',initial_centroids.shape)\n",
    "samples_exp=tf.expand_dims(samples,0)\n",
    "centroids_exp=tf.expand_dims(initial_centroids,1)\n",
    "print('The expanded sample shape is like:',samples_exp.shape)\n",
    "print('The expanded shape of the centroids is like:',centroids_exp.shape)\n"
   ]
  },
  {
   "cell_type": "code",
   "execution_count": 15,
   "metadata": {},
   "outputs": [
    {
     "name": "stdout",
     "output_type": "stream",
     "text": [
      "(3, 200, 2)\n",
      "(3, 200, 2)\n",
      "(3, 200)\n",
      "(200,)\n"
     ]
    }
   ],
   "source": [
    "samples_exp.dtype\n",
    "subb=tf.subtract(centroids_exp,samples_exp)\n",
    "print(subb.shape)\n",
    "sq=tf.square(subb)\n",
    "print(sq.shape) ##3,200,2\n",
    "distance=tf.reduce_sum(sq,2)\n",
    "print(distance.shape)\n",
    "IND1=tf.argmin(distance,0)\n",
    "print(IND1.shape)"
   ]
  },
  {
   "cell_type": "code",
   "execution_count": 16,
   "metadata": {},
   "outputs": [
    {
     "name": "stdout",
     "output_type": "stream",
     "text": [
      "[[14.49724686 10.19097226]\n",
      " [ 4.05719687 16.73423154]\n",
      " [ 3.91363383  6.13181471]]\n",
      "28.119129474897\n",
      "[[15.45739451 10.65273049]\n",
      " [ 4.81668304 16.49716722]\n",
      " [ 4.98585613  5.52362962]]\n",
      "3.0937376242396493\n",
      "[[15.95556744 10.77508549]\n",
      " [ 5.10849986 15.89700665]\n",
      " [ 5.41712143  5.26154145]]\n",
      "1.6849821480383298\n",
      "[[16.21803891 10.82333215]\n",
      " [ 5.26143591 15.63563167]\n",
      " [ 5.81492448  5.01130499]]\n",
      "1.0396627640166236\n",
      "[[16.36555483 10.78661437]\n",
      " [ 5.45491403 15.44040509]\n",
      " [ 5.79357452  4.91605546]]\n",
      "0.5244884013990156\n",
      "[[16.50543536 10.7297927 ]\n",
      " [ 5.62637917 15.3636011 ]\n",
      " [ 5.79357452  4.91605546]]\n",
      "0.33886168989538706\n",
      "[[16.57796301 10.7089626 ]\n",
      " [ 5.70811523 15.31616886]\n",
      " [ 5.79357452  4.91605546]]\n",
      "0.16996146780053617\n",
      "[[16.57796301 10.7089626 ]\n",
      " [ 5.70811523 15.31616886]\n",
      " [ 5.79357452  4.91605546]]\n",
      "0.0\n",
      "The Total number of iterations is: 8\n"
     ]
    }
   ],
   "source": [
    "def update_centroids(samples, IND, cluster_n):\n",
    "    # Updates the centroid to be the mean of all samples associated with it.\n",
    "    IND2=tf.cast(IND,'int32')\n",
    "    partitions = tf.dynamic_partition(samples, IND2,cluster_n)#this partitions the data according to the dimensions in IND1\n",
    "    new_centroids = tf.concat([tf.expand_dims(tf.reduce_mean(partition, 0), 0) for partition in partitions], 0)\n",
    "    return new_centroids\n",
    "\n",
    "iteration=1\n",
    "while(True): \n",
    "  \n",
    "  if iteration==1:\n",
    "    centroids_exp=tf.expand_dims(initial_centroids,1)\n",
    "  else:\n",
    "    centroids_exp=tf.expand_dims(Centroids,1)\n",
    "    \n",
    "  subb=tf.subtract(centroids_exp,samples_exp)\n",
    "  sq=tf.square(subb)\n",
    "  distance=tf.reduce_sum(sq,2)\n",
    "  IND1=tf.argmin(distance,0)\n",
    "  updated_centroids=update_centroids(samples,IND1,cluster_n)\n",
    "  model = tf.global_variables_initializer()\n",
    "  with tf.Session() as session:\n",
    "        sample_values = session.run(samples)\n",
    "        updated_centroid_value = session.run(updated_centroids)\n",
    "        print(updated_centroid_value)\n",
    "      \n",
    "  Centroid_prev=tf.squeeze(centroids_exp) \n",
    "  diff0=tf.subtract(Centroid_prev[0], updated_centroid_value[0])  \n",
    "  Diff0=tf.norm(diff0,ord='euclidean')\n",
    "  \n",
    "  diff1=tf.subtract(Centroid_prev[1], updated_centroid_value[1])  \n",
    "  Diff1=tf.norm(diff1,ord='euclidean')\n",
    "  \n",
    "  diff2=tf.subtract(Centroid_prev[2], updated_centroid_value[2])  \n",
    "  Diff2=tf.norm(diff2,ord='euclidean')\n",
    "  \n",
    "  with sess.as_default():\n",
    "    \n",
    "    Diff0=Diff0.eval()\n",
    "    Diff1=Diff1.eval()\n",
    "    Diff2=Diff2.eval()\n",
    "  \n",
    "    Diff=Diff0+Diff1+Diff2\n",
    "    print(Diff)\n",
    "    if Diff<10**(-1):\n",
    "        Index=IND1;\n",
    "        break;\n",
    "    else:\n",
    "        Centroids=updated_centroid_value\n",
    "        iteration=iteration+1\n",
    "print('The Total number of iterations is:',iteration)\n",
    " "
   ]
  },
  {
   "cell_type": "code",
   "execution_count": null,
   "metadata": {},
   "outputs": [],
   "source": []
  }
 ],
 "metadata": {
  "kernelspec": {
   "display_name": "Python 3",
   "language": "python",
   "name": "python3"
  },
  "language_info": {
   "codemirror_mode": {
    "name": "ipython",
    "version": 3
   },
   "file_extension": ".py",
   "mimetype": "text/x-python",
   "name": "python",
   "nbconvert_exporter": "python",
   "pygments_lexer": "ipython3",
   "version": "3.6.9"
  }
 },
 "nbformat": 4,
 "nbformat_minor": 4
}
